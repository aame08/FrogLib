{
 "cells": [
  {
   "cell_type": "code",
   "execution_count": null,
   "id": "ea568bc4",
   "metadata": {},
   "outputs": [],
   "source": [
    "# импорт библиотек\n",
    "import pandas as pd\n",
    "import numpy as np\n",
    "from sklearn.metrics.pairwise import cosine_similarity\n",
    "from sklearn.feature_extraction.text import TfidfVectorizer\n",
    "from sklearn.decomposition import TruncatedSVD\n",
    "from scipy.sparse import csr_matrix\n",
    "import pymysql\n",
    "from sqlalchemy import create_engine\n",
    "import json\n",
    "import warnings\n",
    "import nltk\n",
    "from nltk.corpus import stopwords\n",
    "from scipy.sparse import hstack\n",
    "warnings.filterwarnings('ignore')"
   ]
  },
  {
   "cell_type": "code",
   "execution_count": null,
   "id": "7252c551",
   "metadata": {},
   "outputs": [],
   "source": [
    "# параметры подключения к базе данных\n",
    "db_config = {\n",
    "    'host': 'localhost',\n",
    "    'user': 'root',\n",
    "    'password': 'ame0372',\n",
    "    'database': 'froglib'\n",
    "}\n",
    "\n",
    "# создание подключения\n",
    "connection = pymysql.connect(**db_config)"
   ]
  },
  {
   "cell_type": "code",
   "execution_count": null,
   "id": "57a8aaf4",
   "metadata": {},
   "outputs": [],
   "source": [
    "# загрузка данных из БД\n",
    "def load_data_from_db():\n",
    "    books_query = \"\"\"\n",
    "    SELECT b.id_book, b.title_book, b.description_book, b.id_category, c.name_category \n",
    "    FROM Books b\n",
    "    JOIN Categories c ON b.id_category = c.id_category\n",
    "    \"\"\"\n",
    "    books = pd.read_sql(books_query, connection)\n",
    "\n",
    "    user_books_query = \"\"\"\n",
    "    SELECT id_user, id_book, id_list_type \n",
    "    FROM UserBooks\n",
    "    \"\"\"\n",
    "    user_books = pd.read_sql(user_books_query, connection)\n",
    "\n",
    "    ratings_query = \"\"\"\n",
    "    SELECT id_user, id_book, rating \n",
    "    FROM BookRatings\n",
    "    \"\"\"\n",
    "    ratings = pd.read_sql(ratings_query, connection)\n",
    "\n",
    "    views_query = \"\"\"\n",
    "    SELECT id_user, id_entity as id_book \n",
    "    FROM ViewHistory\n",
    "    WHERE type_entity = 'Книга'\n",
    "    \"\"\"\n",
    "    views = pd.read_sql(views_query, connection)\n",
    "\n",
    "    return books, user_books, ratings, views"
   ]
  },
  {
   "cell_type": "code",
   "execution_count": 4,
   "id": "bb29ca20",
   "metadata": {},
   "outputs": [],
   "source": [
    "books, user_books, ratings, views = load_data_from_db()"
   ]
  },
  {
   "cell_type": "code",
   "execution_count": null,
   "id": "e9d943c3",
   "metadata": {},
   "outputs": [],
   "source": [
    "# предобработка данных\n",
    "def preprocess_data(books, user_books, ratings, views):\n",
    "    # создание весов для списков\n",
    "    list_weights = {\n",
    "        1: 3,\n",
    "        2: 2,\n",
    "        3: -1,\n",
    "        4: 4,\n",
    "        5: 5\n",
    "    }\n",
    "\n",
    "    # добавление веса к спискам пользователей\n",
    "    user_books['weight'] = user_books['id_list_type'].map(list_weights)\n",
    "\n",
    "    # объединение оценки и списка\n",
    "    user_interactions = pd.concat([\n",
    "        ratings.assign(weight=ratings['rating'] * 2),\n",
    "        user_books[['id_user', 'id_book', 'weight']]\n",
    "    ]).drop_duplicates(['id_user', 'id_book'], keep='first')\n",
    "\n",
    "    # добавление просмотров с меньшим весом\n",
    "    if not views.empty:\n",
    "        views['weight'] = 1\n",
    "        user_interactions = pd.concat([\n",
    "            user_interactions,\n",
    "            views[['id_user', 'id_book', 'weight']]\n",
    "        ]).drop_duplicates(['id_user', 'id_book'], keep='first')\n",
    "\n",
    "    # очистка описаний книг\n",
    "    books['clean_description'] = books['description_book'].fillna('').str.lower()\n",
    "\n",
    "    return books, user_interactions"
   ]
  },
  {
   "cell_type": "code",
   "execution_count": 6,
   "id": "39f67d99",
   "metadata": {},
   "outputs": [],
   "source": [
    "books, user_interactions = preprocess_data(books, user_books, ratings, views)"
   ]
  },
  {
   "cell_type": "code",
   "execution_count": null,
   "id": "a1234939",
   "metadata": {},
   "outputs": [
    {
     "name": "stderr",
     "output_type": "stream",
     "text": [
      "[nltk_data] Downloading package stopwords to\n",
      "[nltk_data]     C:\\Users\\Я\\AppData\\Roaming\\nltk_data...\n",
      "[nltk_data]   Package stopwords is already up-to-date!\n"
     ]
    }
   ],
   "source": [
    "# загрузка русский стоп-слов\n",
    "nltk.download('stopwords')\n",
    "russian_stopwords = stopwords.words('russian')"
   ]
  },
  {
   "cell_type": "code",
   "execution_count": null,
   "id": "e0274623",
   "metadata": {},
   "outputs": [],
   "source": [
    "# контентная фильтрация\n",
    "def content_based_recommendation(books):\n",
    "    tfidf = TfidfVectorizer(stop_words=russian_stopwords, max_features=5000)\n",
    "    tfidf_matrix = tfidf.fit_transform(books['clean_description'])\n",
    "\n",
    "    # добавление категорий как доп признаки\n",
    "    category_dummies = pd.get_dummies(books['name_category'], sparse=True)\n",
    "\n",
    "    # объединение признаков\n",
    "    content_features = csr_matrix(hstack([tfidf_matrix, category_dummies]))\n",
    "\n",
    "    # вычисление косинусного сходства\n",
    "    content_similarity = cosine_similarity(content_features)\n",
    "\n",
    "    return content_similarity"
   ]
  },
  {
   "cell_type": "code",
   "execution_count": 10,
   "id": "ab6cb33a",
   "metadata": {},
   "outputs": [],
   "source": [
    "content_similarity = content_based_recommendation(books)"
   ]
  },
  {
   "cell_type": "code",
   "execution_count": null,
   "id": "c3442ee5",
   "metadata": {},
   "outputs": [],
   "source": [
    "# коллаборативная фильтрация\n",
    "def collaborative_filtering(user_interactions, books):\n",
    "    # матрица пользователь-книга\n",
    "    user_books_matrix = user_interactions.pivot_table(\n",
    "        index='id_user',\n",
    "        columns='id_book',\n",
    "        values='weight',\n",
    "        fill_value=0\n",
    "    )\n",
    "\n",
    "    # нормализация оценок\n",
    "    user_means = user_books_matrix.mean(axis=1)\n",
    "    user_books_matrix = user_books_matrix.sub(user_means, axis=0)\n",
    "\n",
    "    n_features = user_books_matrix.shape[1]\n",
    "    n_components = min(50, n_features)  # ограничение числа компонентов\n",
    "    \n",
    "    # SVD для уменьшения размерности\n",
    "    svd = TruncatedSVD(n_components=n_components, random_state=42)\n",
    "    user_factors = svd.fit_transform(user_books_matrix)\n",
    "    book_factors = svd.components_.T\n",
    "\n",
    "    # вычисление предсказанных оценок\n",
    "    predicted_ratings = np.dot(user_factors, book_factors.T)\n",
    "\n",
    "    return predicted_ratings, user_books_matrix.index, user_books_matrix.columns"
   ]
  },
  {
   "cell_type": "code",
   "execution_count": null,
   "id": "9e3058a4",
   "metadata": {},
   "outputs": [],
   "source": [
    "predicted_ratings, user_ids, book_ids = collaborative_filtering(user_interactions, books)"
   ]
  },
  {
   "cell_type": "code",
   "execution_count": null,
   "id": "8c2708ae",
   "metadata": {},
   "outputs": [],
   "source": [
    "# гибридные рекомендации\n",
    "def hybrid_recommendations(user_id, content_weight=0.6, collab_weight=0.4):\n",
    "    try:\n",
    "        # получение индекса пользователя для коллаборативной фильтрации\n",
    "        user_idx = np.where(user_ids == user_id)[0][0]\n",
    "        # получение предсказанных оценок от коллаборативной фильтрации\n",
    "        collab_scores = predicted_ratings[user_idx]\n",
    "        \n",
    "        # получение книг, с которыми пользователь уже взаимодействовал\n",
    "        interacted_books = user_interactions[user_interactions['id_user'] == user_id]['id_book'].values\n",
    "        \n",
    "        # усреднение сходства по любимым книгам для контентной фильтрации\n",
    "        favorite_books = user_interactions[\n",
    "            (user_interactions['id_user'] == user_id) &\n",
    "            (user_interactions['weight'] >= 4) # Любимые и прочитанные\n",
    "        ]['id_book'].values\n",
    "\n",
    "        if len(favorite_books) > 0:\n",
    "            # нахождение индексов любимых книг\n",
    "            favorite_indices = books[books['id_book'].isin(favorite_books)].index\n",
    "            # усреднение сходства с любимыми книгами\n",
    "            content_scores = content_similarity[favorite_indices].mean(axis=0)\n",
    "        else:\n",
    "            # если нет любимых, используются все взаимодействия\n",
    "            interacted_indices = books[books['id_book'].isin(interacted_books)].index\n",
    "            if len(interacted_indices) > 0:\n",
    "                content_scores = content_similarity[interacted_indices].mean(axis=0)\n",
    "            else:\n",
    "                # если нет взаимодействий, возвращение популярных\n",
    "                popular_books = user_interactions['id_book'].value_counts().head(5).index\n",
    "                result = books[books['id_book'].isin(popular_books)][['id_book', 'title_book', 'name_category']]\n",
    "                result['hybrid_score'] = 1.0\n",
    "                return result.to_dict('records')\n",
    "        \n",
    "        # нормализация оценок\n",
    "        content_scores = (content_scores - content_scores.min()) / (content_scores.max() - content_scores.min())\n",
    "        collab_scores = (collab_scores - collab_scores.min()) / (collab_scores.max() - collab_scores.min())\n",
    "\n",
    "        # формирование рекомендаций\n",
    "        recommendations = pd.DataFrame({\n",
    "            'id_book': book_ids,\n",
    "            'content_score': content_scores,\n",
    "            'collab_score': collab_scores\n",
    "        })\n",
    "\n",
    "        # расчёт гибридной оценки\n",
    "        recommendations['hybrid_score'] = (\n",
    "            recommendations['content_score'] * content_weight +\n",
    "            recommendations['collab_score'] * collab_weight\n",
    "        )\n",
    "\n",
    "        # исключение уже взаимодействовавших книги\n",
    "        recommendations = recommendations[~recommendations['id_book'].isin(interacted_books)]\n",
    "\n",
    "        # сортировка топ-5\n",
    "        recommendations = recommendations.sort_values('hybrid_score', ascending=False).head(5)\n",
    "\n",
    "        # добавление информации о книгах\n",
    "        recommendations = recommendations.merge(\n",
    "            books[['id_book', 'title_book', 'name_category']],\n",
    "            on='id_book',\n",
    "            how='left'\n",
    "        )\n",
    "\n",
    "        return recommendations[['id_book', 'title_book', 'name_category', 'hybrid_score']].to_dict('records')\n",
    "    \n",
    "    except IndexError:\n",
    "        # для новых пользователей популярные книги\n",
    "        popular_books = user_interactions['id_book'].value_counts().head(5).index\n",
    "        result = books[books['id_book'].isin(popular_books)][['id_book', 'title_book', 'name_category']]\n",
    "        result['hybrid_score'] = 1.0\n",
    "        return result.to_dict('records')"
   ]
  },
  {
   "cell_type": "code",
   "execution_count": 14,
   "id": "ab0e8f8f",
   "metadata": {},
   "outputs": [
    {
     "name": "stdout",
     "output_type": "stream",
     "text": [
      "Рекомендации для пользователя:\n",
      "1. Мастер и Маргарита (Художественная литература) - score: 0.57\n",
      "2. Атлант расправил плечи (Художественная литература) - score: 0.57\n",
      "3. Богатый папа, бедный папа (Бизнес и экономика) - score: 0.39\n",
      "4. Город женщин (Художественная литература) - score: 0.15\n",
      "5. Война и мир (Художественная литература) - score: 0.04\n"
     ]
    }
   ],
   "source": [
    "sample_user_id = 6\n",
    "recommendations = hybrid_recommendations(sample_user_id)\n",
    "print('Рекомендации для пользователя:')\n",
    "for i, rec in enumerate(recommendations, 1):\n",
    "    print(f\"{i}. {rec['title_book']} ({rec['name_category']}) - score: {rec['hybrid_score']:.2f}\")"
   ]
  },
  {
   "cell_type": "code",
   "execution_count": null,
   "id": "17830c78",
   "metadata": {},
   "outputs": [],
   "source": []
  }
 ],
 "metadata": {
  "kernelspec": {
   "display_name": "base",
   "language": "python",
   "name": "python3"
  },
  "language_info": {
   "codemirror_mode": {
    "name": "ipython",
    "version": 3
   },
   "file_extension": ".py",
   "mimetype": "text/x-python",
   "name": "python",
   "nbconvert_exporter": "python",
   "pygments_lexer": "ipython3",
   "version": "3.12.7"
  }
 },
 "nbformat": 4,
 "nbformat_minor": 5
}
